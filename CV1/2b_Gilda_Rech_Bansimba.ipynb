{
 "cells": [
  {
   "cell_type": "markdown",
   "metadata": {},
   "source": [
    "# Gilda Rech"
   ]
  },
  {
   "cell_type": "markdown",
   "metadata": {
    "id": "mCt-frpFH8oN"
   },
   "source": [
    "The tutorials use PyTorch. You will need to load the following dependencies."
   ]
  },
  {
   "cell_type": "code",
   "execution_count": 2,
   "metadata": {
    "colab": {
     "base_uri": "https://localhost:8080/"
    },
    "id": "Zzl0SpANlQJc",
    "outputId": "5df3e11f-9c19-461f-d9b2-e2a4799026e7"
   },
   "outputs": [
    {
     "name": "stdout",
     "output_type": "stream",
     "text": [
      "Requirement already satisfied: torch in /usr/local/lib/python3.7/dist-packages (1.10.0+cu111)\n",
      "Requirement already satisfied: torchvision in /usr/local/lib/python3.7/dist-packages (0.11.1+cu111)\n",
      "Requirement already satisfied: typing-extensions in /usr/local/lib/python3.7/dist-packages (from torch) (3.10.0.2)\n",
      "Requirement already satisfied: numpy in /usr/local/lib/python3.7/dist-packages (from torchvision) (1.21.5)\n",
      "Requirement already satisfied: pillow!=8.3.0,>=5.3.0 in /usr/local/lib/python3.7/dist-packages (from torchvision) (7.1.2)\n"
     ]
    }
   ],
   "source": [
    "# This specific version of torchvision is needed to download the mnist set\n",
    "!pip3 install torch torchvision"
   ]
  },
  {
   "cell_type": "code",
   "execution_count": 3,
   "metadata": {
    "id": "hqnl0AKVXIA4"
   },
   "outputs": [],
   "source": [
    "import random\n",
    "\n",
    "import imageio\n",
    "import matplotlib.pyplot as plt\n",
    "import numpy as np\n",
    "import PIL\n",
    "import skimage.transform\n",
    "import torch\n",
    "import torch.nn as nn\n",
    "import torch.utils.data\n",
    "import torchvision\n",
    "from IPython import display\n",
    "from torchvision import datasets, transforms"
   ]
  },
  {
   "cell_type": "markdown",
   "metadata": {
    "id": "gRSODvyslQJd"
   },
   "source": [
    "# Tutorial 2b: Batch Normalization"
   ]
  },
  {
   "cell_type": "markdown",
   "metadata": {
    "id": "CKeYuM-cIXxs"
   },
   "source": [
    "The code below may be helpful in visualizing PyTorch tensors as images."
   ]
  },
  {
   "cell_type": "code",
   "execution_count": 4,
   "metadata": {
    "id": "ZZd_rI8edYIB"
   },
   "outputs": [],
   "source": [
    "%matplotlib inline\n",
    "\n",
    "\n",
    "def show(img):\n",
    "    \"\"\"Show PyTorch tensor img as an image in matplotlib.\"\"\"\n",
    "    npimg = img.cpu().detach().numpy()\n",
    "    plt.imshow(np.transpose(npimg, (1, 2, 0)), interpolation=\"nearest\")\n",
    "    plt.grid(False)\n",
    "    plt.gca().axis(\"off\")\n",
    "\n",
    "\n",
    "def display_thumb(img):\n",
    "    display.display(transforms.Resize(128)(img))"
   ]
  },
  {
   "cell_type": "code",
   "execution_count": 5,
   "metadata": {
    "id": "dzfEE578uSNp"
   },
   "outputs": [],
   "source": [
    "device = \"cuda\" if torch.cuda.is_available() else \"cpu\""
   ]
  },
  {
   "cell_type": "markdown",
   "metadata": {
    "id": "zgE0byUgKwM6"
   },
   "source": [
    "Load MNIST and define train/test functions as before. Please make sure you read the code carefully and understand what it is doing."
   ]
  },
  {
   "cell_type": "code",
   "execution_count": 6,
   "metadata": {
    "colab": {
     "base_uri": "https://localhost:8080/",
     "height": 417,
     "referenced_widgets": [
      "faf08b4a0c45416ab8e08be4a8d71913",
      "0898e807830546b6a72eea221d6f6051",
      "5d6de97a7daf4a219e900623d443722d",
      "b1b24fedd3ce4e67acef3dae50ff34e0",
      "4276349c6e3843baaeb1c824b7b9097b",
      "d55bac3534474e6c8bc3e118801c707f",
      "442e41260f1b4ad7a95d895ad6c96809",
      "f0f81271750140669b88863cc7405001",
      "1f90029d64a54e70af2a404b79dd426b",
      "c7dddc87b88b4f57a8a61cb6f5bbbb01",
      "2803350886314a699362e7ec8e5787b8",
      "525acddcaa4b4c0b92c87663c8f20f6e",
      "225950b0484349a2a21077c1f26661eb",
      "7ee8e89b45494cc2a63ffc9c4b661ba8",
      "9ce579289a1145c4a1b83b57d96147a0",
      "f2be11f3f58b42c4a4bf6928dcf2f943",
      "0c382a8a6a3a49bb8eb351e56cc54d09",
      "26369e87df64402b924cbd1e447a1195",
      "c4a3c635b18a47e38e331e70afb65f16",
      "20016b17381842b4a8d91caec339ae3d",
      "696051d9b11845eab049a7495aa6ecab",
      "4afffdb8cc57428d9faec8c8bfc8f9bc",
      "c805458dd86b4bd0bce9f83e4eca7fff",
      "a8e8b6aeb78e4c04b5dbb7546cdeb33a",
      "dd8822cd84fd4411a236ad76388c8524",
      "670cb662927242758457e13da000dd9f",
      "f0802a0dda84432ca987c5e986301704",
      "ceea140a668f4ae28a0a26a76a0542d8",
      "21eb36ab3e59405fbce18beab6d9f5c3",
      "d5abf198cf2a487782901352d69b43ec",
      "62622b7f42ad4667af51d7f153e512f4",
      "47941cc3db3943b1abcc2967cabfde09",
      "90fda2a3f4354f5088dfcee0a056c72f",
      "4c577accb8a2447ca82631fb63559d28",
      "0f9963f7d547458c86b65a60d0b145d0",
      "8785e963afe64e70980a4bcb09abd147",
      "4e38004b4b6846ed82b36eb3dcb96ade",
      "bc496772f4964a238d052d70213167c7",
      "5c4b9eb9b3de4e489acaf59b5eda0ac8",
      "140980d26ded47e596b63c548633ab34",
      "56fd7b4d45ce4e5a895beacf5a2efb9d",
      "9ee8e7842f9446749d50747f1a7efec5",
      "effc28082f6244fd842914a3fa8a3b0d",
      "c826c43531ab452cb7147068bab07e69"
     ]
    },
    "id": "-NMUce6PKu-o",
    "outputId": "13acb1ee-5611-4740-cd9d-c91e26fc523c"
   },
   "outputs": [
    {
     "name": "stdout",
     "output_type": "stream",
     "text": [
      "Downloading http://yann.lecun.com/exdb/mnist/train-images-idx3-ubyte.gz\n",
      "Downloading http://yann.lecun.com/exdb/mnist/train-images-idx3-ubyte.gz to /tmp/mnist/MNIST/raw/train-images-idx3-ubyte.gz\n"
     ]
    },
    {
     "data": {
      "application/vnd.jupyter.widget-view+json": {
       "model_id": "faf08b4a0c45416ab8e08be4a8d71913",
       "version_major": 2,
       "version_minor": 0
      },
      "text/plain": [
       "  0%|          | 0/9912422 [00:00<?, ?it/s]"
      ]
     },
     "metadata": {},
     "output_type": "display_data"
    },
    {
     "name": "stdout",
     "output_type": "stream",
     "text": [
      "Extracting /tmp/mnist/MNIST/raw/train-images-idx3-ubyte.gz to /tmp/mnist/MNIST/raw\n",
      "\n",
      "Downloading http://yann.lecun.com/exdb/mnist/train-labels-idx1-ubyte.gz\n",
      "Downloading http://yann.lecun.com/exdb/mnist/train-labels-idx1-ubyte.gz to /tmp/mnist/MNIST/raw/train-labels-idx1-ubyte.gz\n"
     ]
    },
    {
     "data": {
      "application/vnd.jupyter.widget-view+json": {
       "model_id": "525acddcaa4b4c0b92c87663c8f20f6e",
       "version_major": 2,
       "version_minor": 0
      },
      "text/plain": [
       "  0%|          | 0/28881 [00:00<?, ?it/s]"
      ]
     },
     "metadata": {},
     "output_type": "display_data"
    },
    {
     "name": "stdout",
     "output_type": "stream",
     "text": [
      "Extracting /tmp/mnist/MNIST/raw/train-labels-idx1-ubyte.gz to /tmp/mnist/MNIST/raw\n",
      "\n",
      "Downloading http://yann.lecun.com/exdb/mnist/t10k-images-idx3-ubyte.gz\n",
      "Downloading http://yann.lecun.com/exdb/mnist/t10k-images-idx3-ubyte.gz to /tmp/mnist/MNIST/raw/t10k-images-idx3-ubyte.gz\n"
     ]
    },
    {
     "data": {
      "application/vnd.jupyter.widget-view+json": {
       "model_id": "c805458dd86b4bd0bce9f83e4eca7fff",
       "version_major": 2,
       "version_minor": 0
      },
      "text/plain": [
       "  0%|          | 0/1648877 [00:00<?, ?it/s]"
      ]
     },
     "metadata": {},
     "output_type": "display_data"
    },
    {
     "name": "stdout",
     "output_type": "stream",
     "text": [
      "Extracting /tmp/mnist/MNIST/raw/t10k-images-idx3-ubyte.gz to /tmp/mnist/MNIST/raw\n",
      "\n",
      "Downloading http://yann.lecun.com/exdb/mnist/t10k-labels-idx1-ubyte.gz\n",
      "Downloading http://yann.lecun.com/exdb/mnist/t10k-labels-idx1-ubyte.gz to /tmp/mnist/MNIST/raw/t10k-labels-idx1-ubyte.gz\n"
     ]
    },
    {
     "data": {
      "application/vnd.jupyter.widget-view+json": {
       "model_id": "4c577accb8a2447ca82631fb63559d28",
       "version_major": 2,
       "version_minor": 0
      },
      "text/plain": [
       "  0%|          | 0/4542 [00:00<?, ?it/s]"
      ]
     },
     "metadata": {},
     "output_type": "display_data"
    },
    {
     "name": "stdout",
     "output_type": "stream",
     "text": [
      "Extracting /tmp/mnist/MNIST/raw/t10k-labels-idx1-ubyte.gz to /tmp/mnist/MNIST/raw\n",
      "\n"
     ]
    }
   ],
   "source": [
    "# Load the training and test dataset.\n",
    "mnist_train = datasets.MNIST(\n",
    "    \"/tmp/mnist\", train=True, download=True, transform=transforms.ToTensor()\n",
    ")\n",
    "mnist_test = datasets.MNIST(\n",
    "    \"/tmp/mnist\", train=False, download=True, transform=transforms.ToTensor()\n",
    ")\n",
    "\n",
    "# Size of the batches the data loader will produce.\n",
    "batch_size = 64\n",
    "\n",
    "# This creates the dataloaders.\n",
    "train_loader = torch.utils.data.DataLoader(\n",
    "    mnist_train, batch_size=batch_size, shuffle=True\n",
    ")\n",
    "test_loader = torch.utils.data.DataLoader(\n",
    "    mnist_test, batch_size=batch_size, shuffle=False\n",
    ")"
   ]
  },
  {
   "cell_type": "code",
   "execution_count": 7,
   "metadata": {
    "id": "TgAJ94UgK1VU"
   },
   "outputs": [],
   "source": [
    "def train(model, criterion, data_loader, optimizer, num_epochs):\n",
    "    \"\"\"Simple training loop for a PyTorch model.\"\"\"\n",
    "\n",
    "    # Make sure model is in training mode.\n",
    "    model.train()\n",
    "\n",
    "    # Move model to the device (CPU or GPU).\n",
    "    model.to(device)\n",
    "\n",
    "    # Exponential moving average of the loss.\n",
    "    ema_loss = None\n",
    "\n",
    "    # Loop over epochs.\n",
    "    for epoch in range(num_epochs):\n",
    "\n",
    "        # Loop over data.\n",
    "        for batch_idx, (data, target) in enumerate(data_loader):\n",
    "\n",
    "            # Forward pass.\n",
    "            output = model(data.to(device))\n",
    "            loss = criterion(output.to(device), target.to(device))\n",
    "\n",
    "            # Backward pass.\n",
    "            optimizer.zero_grad()\n",
    "            loss.backward()\n",
    "            optimizer.step()\n",
    "\n",
    "            # NOTE: It is important to call .item() on the loss before summing.\n",
    "            if ema_loss is None:\n",
    "                ema_loss = loss.item()\n",
    "            else:\n",
    "                ema_loss += (loss.item() - ema_loss) * 0.01\n",
    "\n",
    "        # Print out progress the end of epoch.\n",
    "        print(\n",
    "            \"Train Epoch: {} \\tLoss: {:.6f}\".format(epoch, ema_loss),\n",
    "        )\n",
    "\n",
    "\n",
    "def test(model, data_loader):\n",
    "    \"\"\"Measures the accuracy of a model on a data set.\"\"\"\n",
    "    # Make sure the model is in evaluation mode.\n",
    "    model.eval()\n",
    "    correct = 0\n",
    "\n",
    "    # We do not need to maintain intermediate activations while testing.\n",
    "    with torch.no_grad():\n",
    "\n",
    "        # Loop over test data.\n",
    "        for data, target in data_loader:\n",
    "\n",
    "            # Forward pass.\n",
    "            output = model(data.to(device))\n",
    "\n",
    "            # Get the label corresponding to the highest predicted probability.\n",
    "            pred = output.argmax(dim=1, keepdim=True)\n",
    "\n",
    "            # Count number of correct predictions.\n",
    "            correct += pred.cpu().eq(target.view_as(pred)).sum().item()\n",
    "\n",
    "    # Print test accuracy.\n",
    "    percent = 100.0 * correct / len(data_loader.dataset)\n",
    "    print(f\"Accuracy: {correct} / {len(data_loader.dataset)} ({percent:.0f}%)\")\n",
    "    return percent"
   ]
  },
  {
   "cell_type": "markdown",
   "metadata": {
    "id": "PtC8l_bplQJf"
   },
   "source": [
    "In the last tutorial, you implemented a naive convolution. In this section you will implement your own version of forward pass of nn.Conv2d without using any of PyTorch's (or numpy's) pre-defined convolutional functions."
   ]
  },
  {
   "cell_type": "code",
   "execution_count": 8,
   "metadata": {
    "id": "wU-ycpFYlQJg"
   },
   "outputs": [],
   "source": [
    "def conv_forward_naive(x, w, b, conv_param):\n",
    "    \"\"\"\n",
    "    A naive Python implementation of a convolutional layer.\n",
    "    The input consists of N data points, each with C channels, height H and\n",
    "    width W. We convolve each input with F different filters, where each filter\n",
    "    spans all C channels and has height HH and width WW.\n",
    "    Input:\n",
    "    - x: Input data of shape (N, C, H, W)\n",
    "    - w: Filter weights of shape (F, C, HH, WW)\n",
    "    - b: Biases, of shape (F,)\n",
    "    - conv_param: A dictionary with the following keys:\n",
    "      - 'stride': The number of pixels between adjacent receptive fields in the\n",
    "        horizontal and vertical directions.\n",
    "      - 'pad': The number of pixels that will be used to zero-pad the input.\n",
    "\n",
    "    During padding, 'pad' zeros should be placed symmetrically (i.e., equally on both sides)\n",
    "    along the height and width axes of the input. Be careful not to modfiy the original\n",
    "    input x directly.\n",
    "    Returns an array.\n",
    "    - out: Output data, of shape (N, F, H', W') where H' and W' are given by\n",
    "      H' = 1 + (H + 2 * pad - HH) / stride\n",
    "      W' = 1 + (W + 2 * pad - WW) / stride\n",
    "    \"\"\"\n",
    "    out = None\n",
    "\n",
    "    N, C, H, W = x.shape\n",
    "    num_filters, _, filter_height, filter_width = w.shape\n",
    "    stride, pad = conv_param[\"stride\"], conv_param[\"pad\"]\n",
    "\n",
    "    # Check dimensions.\n",
    "    assert (W + 2 * pad - filter_width) % stride == 0, \"width does not work\"\n",
    "    assert (H + 2 * pad - filter_height) % stride == 0, \"height does not work\"\n",
    "\n",
    "    ###########################################################################\n",
    "    # TODO: Implement the forward pass of a convolutional layer without using #\n",
    "    #       nn.Conv2D or other implementations of convolutions. Instead, use  #\n",
    "    #       standard for- and while-loops to iterate over the tensors.        #\n",
    "    #                                                                         #\n",
    "    # Hint: you can use the function torch.nn.functional.pad for padding.     #\n",
    "    ###########################################################################\n",
    "    Hp, Wp = 1 + int((H + 2 * pad - filter_height) / stride), 1 + int((W + 2 * pad - filter_width) / stride) #U=Hp, V=Wp\n",
    "    out=torch.zeros(C,Hp,Wp)\n",
    "    output=torch.zeros(N,num_filters,Hp,Wp)\n",
    "    x=nn.functional.pad(x,(pad,pad,pad,pad))\n",
    "    for n in range(N):\n",
    "        for f in range(num_filters):\n",
    "            for c in range(C):\n",
    "                for i in range(Hp):\n",
    "                    for j in range(Wp):\n",
    "                        if j!=0:\n",
    "                            if i!=0:\n",
    "                                out[c,i,j]=torch.sum(x[n,c,i*stride:filter_height+i*stride,j*stride:filter_width+j*stride]*w[f,c,:,:])\n",
    "                            else:\n",
    "                                out[c,i,j]=torch.sum(x[n,c,i:filter_height+i,j*stride:filter_width+j*stride]*w[f,c,:,:])\n",
    "\n",
    "                        else :\n",
    "                            if i==0:\n",
    "                                out[c,i,j]=torch.sum(x[n,c,i: filter_height+i,j:filter_width+j]*w[f,c,:,:])\n",
    "                            else:\n",
    "                                out[c,i,j]=torch.sum(x[n,c,i*stride:filter_height+i*stride,j:filter_width+j]*w[f,c,:,:])\n",
    "                        \n",
    "                output[n,f,:,:]+=out[c,:,:]\n",
    "        for i in range(Hp):\n",
    "            for j in range(Wp):\n",
    "                output[n,:,i,j]+=b\n",
    "    return output"
   ]
  },
  {
   "cell_type": "markdown",
   "metadata": {
    "id": "scG4L3NClQJg"
   },
   "source": [
    "You can test your implementation by running the following testing code:"
   ]
  },
  {
   "cell_type": "code",
   "execution_count": 9,
   "metadata": {
    "colab": {
     "base_uri": "https://localhost:8080/"
    },
    "id": "kZMVl-SHlQJg",
    "outputId": "1dace217-da30-4489-c712-67a5f7c0f8d0"
   },
   "outputs": [
    {
     "name": "stdout",
     "output_type": "stream",
     "text": [
      "Testing conv_forward_naive\n",
      "difference:  tensor(3.2180e-08)\n",
      "Nice work! Your implementation of a convolution layer works correctly.\n"
     ]
    }
   ],
   "source": [
    "# Make convolution module.\n",
    "w_shape = (3, 3, 4, 4)\n",
    "w = torch.linspace(-0.2, 0.3, steps=torch.prod(torch.tensor(w_shape))).reshape(w_shape)\n",
    "b = torch.linspace(-0.1, 0.2, steps=3)\n",
    "\n",
    "# Compute output of module and compare against reference values.\n",
    "x_shape = (2, 3, 4, 4)\n",
    "x = torch.linspace(-0.1, 0.5, steps=torch.prod(torch.tensor(x_shape))).reshape(x_shape)\n",
    "out = conv_forward_naive(x, w, b, {\"stride\": 2, \"pad\": 1})\n",
    "\n",
    "correct_out = torch.tensor(\n",
    "    [\n",
    "        [\n",
    "            [[-0.08759809, -0.10987781], [-0.18387192, -0.2109216]],\n",
    "            [[0.21027089, 0.21661097], [0.22847626, 0.23004637]],\n",
    "            [[0.50813986, 0.54309974], [0.64082444, 0.67101435]],\n",
    "        ],\n",
    "        [\n",
    "            [[-0.98053589, -1.03143541], [-1.19128892, -1.24695841]],\n",
    "            [[0.69108355, 0.66880383], [0.59480972, 0.56776003]],\n",
    "            [[2.36270298, 2.36904306], [2.38090835, 2.38247847]],\n",
    "        ],\n",
    "    ]\n",
    ")\n",
    "\n",
    "# Compare your output to ours; difference should be around e-8\n",
    "print(\"Testing conv_forward_naive\")\n",
    "rel_error = ((out - correct_out) / (out + correct_out + 1e-6)).mean()\n",
    "print(\"difference: \", rel_error)\n",
    "if abs(rel_error) < 1e-6:\n",
    "    print(\"Nice work! Your implementation of a convolution layer works correctly.\")\n",
    "else:\n",
    "    print(\n",
    "        \"Something is wrong. The output was expected to be {} but it was {}\".format(\n",
    "            correct_out, out\n",
    "        )\n",
    "    )"
   ]
  },
  {
   "cell_type": "markdown",
   "metadata": {
    "id": "GjTq5-k_q8s_"
   },
   "source": [
    "\n",
    "We will now replace the logistic regressor from the last tutorial by a small convolutional network with two convolutional layers and a linear layer, and ReLU activations in between the layers. Implement the model and use the same functions as before to train and test the convolutional network."
   ]
  },
  {
   "cell_type": "code",
   "execution_count": 10,
   "metadata": {
    "colab": {
     "base_uri": "https://localhost:8080/"
    },
    "id": "5t4hWoUYpp05",
    "outputId": "fb6c3487-2e28-40a5-8eb9-06d648015d56"
   },
   "outputs": [
    {
     "name": "stdout",
     "output_type": "stream",
     "text": [
      "Train Epoch: 0 \tLoss: 0.275671\n",
      "Train Epoch: 1 \tLoss: 0.253611\n",
      "Train Epoch: 2 \tLoss: 0.235416\n",
      "Train Epoch: 3 \tLoss: 0.206609\n",
      "Train Epoch: 4 \tLoss: 0.209209\n",
      "Accuracy: 9434 / 10000 (94%)\n"
     ]
    },
    {
     "data": {
      "text/plain": [
       "94.34"
      ]
     },
     "execution_count": 10,
     "metadata": {},
     "output_type": "execute_result"
    }
   ],
   "source": [
    "class ConvolutionalNetwork(nn.Module):\n",
    "    \"\"\"Simple convolutional network.\"\"\"\n",
    "\n",
    "    def __init__(self, image_side_size, num_classes, in_channels=1):\n",
    "        super(ConvolutionalNetwork, self).__init__()\n",
    "\n",
    "        # Fill these in:\n",
    "        ##########################################################################\n",
    "        # TODO: Implement a convulutional and a linear part.                     #\n",
    "        # Hint: see forward() to understand how they should work together.       #\n",
    "        ##########################################################################\n",
    "        self.conv_network = nn.Sequential(nn.Conv2d(in_channels,1,5,padding=1),\n",
    "                                          nn.ReLU(),\n",
    "                                          nn.Conv2d(in_channels,1,3,padding=1),\n",
    "                                          nn.ReLU()) # nn.Sequential() and put the final dimension into the linear layer\n",
    "        self.linear = nn.Linear(26**2,10)\n",
    "\n",
    "   \n",
    "    def forward(self, x):\n",
    "        x = self.conv_network(x)\n",
    "        x = self.linear(x.view(x.size(0), -1))\n",
    "        return x\n",
    "\n",
    "# Create and train convolutional network.\n",
    "# The accuracy should be around 96%.\n",
    "conv_model = ConvolutionalNetwork(28, 10)\n",
    "###########################################################################\n",
    "# TODO: Create criterion and optimize here.                               #\n",
    "###########################################################################\n",
    "criterion = nn.CrossEntropyLoss()\n",
    "optimizer = torch.optim.SGD(conv_model.parameters(), lr=0.01, momentum=0.9, weight_decay=1e-3)\n",
    "\n",
    "\n",
    "train(conv_model, criterion, train_loader, optimizer, num_epochs=5)\n",
    "test(conv_model, test_loader)"
   ]
  },
  {
   "cell_type": "markdown",
   "metadata": {
    "id": "qDtg6kHflQJh"
   },
   "source": [
    "Inspect the filters in the first layer of the trained convolutional network. What do they look like? Why?"
   ]
  },
  {
   "cell_type": "code",
   "execution_count": 11,
   "metadata": {
    "colab": {
     "base_uri": "https://localhost:8080/",
     "height": 248
    },
    "id": "LuSuQHT6bNdU",
    "outputId": "e328b471-4b98-4509-fb65-08d84de43075"
   },
   "outputs": [
    {
     "data": {
      "image/png": "[encoded data removed]",
      "text/plain": [
       "<Figure size 432x288 with 1 Axes>"
      ]
     },
     "metadata": {
      "needs_background": "light"
     },
     "output_type": "display_data"
    }
   ],
   "source": [
    "first_conv = list(conv_model.conv_network.children())[0]\n",
    "show(\n",
    "    torchvision.utils.make_grid(\n",
    "        first_conv.weight,\n",
    "        normalize=True,\n",
    "        nrow=8,\n",
    "    )\n",
    ")"
   ]
  },
  {
   "cell_type": "markdown",
   "metadata": {
    "id": "71LRkRxndajG"
   },
   "source": [
    "## Batch Normalization\n"
   ]
  },
  {
   "cell_type": "markdown",
   "metadata": {
    "id": "oN8qTuGkZ-3X"
   },
   "source": [
    "Batch normalization is tenchique that allows to make training more stable fast [1].\n",
    "\n",
    "Below we define a convolutional network with 3 layers. Before each ReLU layer we insert a BatchNorm2d layer if `use_batch_norm` is `True`. This improves the convergence as guarantees as values have the same variance asn zero-means. As a result on average exactly half of the values will be nulled by ReLU.\n",
    "\n",
    "[1] Ioffe, Sergey, and Christian Szegedy. \"Batch normalization: Accelerating deep network training by reducing internal covariate shift.\" arXiv preprint arXiv:1502.03167 (2015).\n",
    "\n",
    "**Task**. Go ahead and add batch normalization layer."
   ]
  },
  {
   "cell_type": "code",
   "execution_count": null,
   "metadata": {
    "id": "vg4CO_WDeLqh"
   },
   "outputs": [],
   "source": [
    "class ConvolutionalNetworkWithBN(nn.Module):\n",
    "    \"\"\"Convolutional network uses batch normalization when `use_batch_norm` is `True`.\"\"\"\n",
    "\n",
    "    def __init__(self, use_batch_norm=False):\n",
    "        super().__init__()\n",
    "        num_channels = 8\n",
    "        self.use_batch_norm = use_batch_norm\n",
    "\n",
    "        # We define all our layers in a single Sequential. If use_batch_norm is\n",
    "        # True, we'd like maybe_batch_norm_layer to produce a batchnorm layer.\n",
    "        self.conv = nn.Sequential(\n",
    "            # 1x28x28 -> 8x24x24.\n",
    "            nn.Conv2d(1, num_channels, kernel_size=5),\n",
    "            # 8x24x24 -> 8x12x12.\n",
    "            nn.MaxPool2d(2),\n",
    "            self.maybe_batch_norm_layer(num_channels),\n",
    "            nn.ReLU(inplace=True),\n",
    "            nn.Conv2d(num_channels, num_channels, kernel_size=3, padding=1),\n",
    "            self.maybe_batch_norm_layer(num_channels),\n",
    "            nn.ReLU(inplace=True),\n",
    "            # 8x12x12 -> 8x8x8.\n",
    "            nn.Conv2d(num_channels, num_channels, kernel_size=5),\n",
    "            # 8x8x8 -> 8x4x4.\n",
    "            nn.MaxPool2d(2),\n",
    "            self.maybe_batch_norm_layer(num_channels),\n",
    "            nn.ReLU(inplace=True),\n",
    "        )\n",
    "        self.linear = nn.Linear(num_channels * 4**2, 10)\n",
    "\n",
    "    def maybe_batch_norm_layer(self, num_channels):\n",
    "        if self.use_batch_norm:\n",
    "            ###########################################################################\n",
    "            # TODO: Add batch norm layer                                              #\n",
    "            # Put your code between START_GRADING and END_GRADING.                    #\n",
    "            ###########################################################################\n",
    "            X_hat = (num_channels - ) / np.sqrt(moving_var + eps)\n",
    "            pass\n",
    "        else:\n",
    "            # This layer will copy its input to the output.\n",
    "            return nn.Identity()\n",
    "\n",
    "    def forward(self, x):\n",
    "        x = self.conv(x)\n",
    "        x = self.linear(x.view(x.size(0), -1))\n",
    "        return x"
   ]
  },
  {
   "cell_type": "markdown",
   "metadata": {
    "id": "qbtzzBhiJ4PW"
   },
   "source": [
    "To see how batch normalization improves stability, let's try to train the neural network with different learning rates and check the accuracies."
   ]
  },
  {
   "cell_type": "code",
   "execution_count": null,
   "metadata": {
    "id": "YXuSliJF3r7u"
   },
   "outputs": [],
   "source": [
    "for lr in 0.3, 0.1, 0.03, 0.01, 0.003:\n",
    "    conv_model = ConvolutionalNetworkWithBN()\n",
    "    optimizer = torch.optim.SGD(conv_model.parameters(), lr=lr)\n",
    "    train(conv_model, nn.CrossEntropyLoss(), train_loader, optimizer, num_epochs=1)\n",
    "    accuracy = test(conv_model, test_loader)\n",
    "    if accuracy > 96:\n",
    "        print(f\"##### lr={lr} leads to GOOD accuracy (no batch normalization)\")\n",
    "    elif accuracy > 90:\n",
    "        print(f\"##### lr={lr} leads to DECENT accuracy (no batch normalization)\")\n",
    "    else:\n",
    "        print(f\"##### lr={lr} leads to BAD accuracy (no batch normalization)\")"
   ]
  },
  {
   "cell_type": "markdown",
   "metadata": {
    "id": "WrJBxM03KOZ-"
   },
   "source": [
    "As you can see learning rate should be in a narrow region to get GOOD result.\n",
    "\n",
    "Now let's try to run the same batch normalization. Before running the code you should finish TODO in ConvolutionalNetworkWithBN code. If your code is correct, then accuracies will improve."
   ]
  },
  {
   "cell_type": "code",
   "execution_count": null,
   "metadata": {
    "id": "6u2JJdnX5VKF"
   },
   "outputs": [],
   "source": [
    "for lr in 0.3, 0.1, 0.03, 0.01, 0.003:\n",
    "    conv_model = ConvolutionalNetworkWithBN(use_batch_norm=True)\n",
    "    optimizer = torch.optim.SGD(conv_model.parameters(), lr=lr)\n",
    "    train(conv_model, nn.CrossEntropyLoss(), train_loader, optimizer, num_epochs=1)\n",
    "    accuracy = test(conv_model, test_loader)\n",
    "    if accuracy > 96:\n",
    "        print(f\"##### lr={lr} leads to GOOD accuracy (with batch normalization)\")\n",
    "    elif accuracy > 90:\n",
    "        print(f\"##### lr={lr} leads to DECENT accuracy (with batch normalization)\")\n",
    "    else:\n",
    "        print(f\"##### lr={lr} leads to BAD accuracy (with batch normalization)\")\n",
    "    if lr >= 0.01:\n",
    "        assert (\n",
    "            accuracy > 90\n",
    "        ), \"Accuracy is too low. Check that your BatchNorm implementation is correct!\""
   ]
  },
  {
   "cell_type": "markdown",
   "metadata": {
    "id": "gdgr7eNFTTAn"
   },
   "source": [
    "**Question [optional]:** Replace the batch normalization layer in your network by your own implementation. Confirm your batch-normalization implementation is correct."
   ]
  },
  {
   "cell_type": "code",
   "execution_count": null,
   "metadata": {
    "id": "MAuhUMtjTj3f"
   },
   "outputs": [],
   "source": [
    "class MyBatchNorm2d(nn.Module):\n",
    "    \"\"\"Simple implementation of batch normalization.\"\"\"\n",
    "\n",
    "    def __init__(self, num_channels, momentum=0.1, epsilon=1e-5):\n",
    "        super(MyBatchNorm2d, self).__init__()\n",
    "\n",
    "        # Initialize bias and gain parameters.\n",
    "        self.gamma = nn.Parameter(torch.ones(1, num_channels, 1, 1))\n",
    "        self.beta = nn.Parameter(torch.zeros(1, num_channels, 1, 1))\n",
    "\n",
    "        # Initialize moving averages.\n",
    "        self.epsilon = epsilon\n",
    "        self.momentum = momentum\n",
    "        self.register_buffer(\"running_mean\", torch.zeros((1, num_channels, 1, 1)))\n",
    "        self.register_buffer(\"running_var\", torch.ones((1, num_channels, 1, 1)))\n",
    "\n",
    "    def forward(self, x):\n",
    "        # Check that input is of correct size.\n",
    "        assert x.dim() == 4, \"input should be NCHW\"\n",
    "        assert x.size(1) == self.gamma.numel()\n",
    "\n",
    "        ########################################################################\n",
    "        # TODO: Add batch norm layer implementation.                           #\n",
    "        # You code should:                                                     #\n",
    "        #   * Compute mean and var.                                            #\n",
    "        #   * Update running_mean and running_var.                             #\n",
    "        #   * Apply mean - variance normalization to x.                        #\n",
    "        # Put your code between START_GRADING and END_GRADING.                 #\n",
    "        ########################################################################\n",
    "        Y, mean, var = ConvolutionalNetworkWithBN.maybe_batch_norm_layer(\n",
    "            x, self.gamma.data(), self.beta.data(), self.moving_mean,\n",
    "            self.moving_var, eps=1e-12, momentum=0.9)\n",
    "        return Y"
   ]
  },
  {
   "cell_type": "code",
   "execution_count": null,
   "metadata": {
    "id": "J2pGi8jMlQJk"
   },
   "outputs": [],
   "source": [
    "# Use this code to test if your implementation is correct.\n",
    "batch_size, num_channels, im_size = 32, 8, 6\n",
    "batchnorm1 = nn.BatchNorm2d(num_channels)\n",
    "batchnorm2 = MyBatchNorm2d(num_channels)\n",
    "for key, param in batchnorm1.named_parameters():\n",
    "    if key == \"weight\":\n",
    "        param.data.fill_(1.0)  # undo random initialization in nn.BatchNorm2d\n",
    "for mode in [True, False]:  # test in training and evaluation mode\n",
    "    batchnorm1.train(mode=mode)\n",
    "    batchnorm2.train(mode=mode)\n",
    "    for _ in range(5):\n",
    "        x = torch.randn(batch_size, num_channels, im_size, im_size) + 10.0\n",
    "        out1 = batchnorm1(x)\n",
    "        out2 = batchnorm2(x)\n",
    "        assert (\n",
    "            batchnorm1.running_mean - batchnorm2.running_mean.squeeze()\n",
    "        ).abs().max() < 1e-5, \"running mean is incorrect (%s mode)\" % (\n",
    "            \"train\" if mode else \"eval\"\n",
    "        )\n",
    "        assert (\n",
    "            batchnorm1.running_var - batchnorm2.running_var.squeeze()\n",
    "        ).abs().max() < 1e-5, \"running variance is incorrect (%s mode)\" % (\n",
    "            \"train\" if mode else \"eval\"\n",
    "        )\n",
    "        assert (\n",
    "            out1 - out2\n",
    "        ).abs().max() < 5e-3, \"normalized output is incorrect (%s mode)\" % (\n",
    "            \"train\" if mode else \"eval\"\n",
    "        )\n",
    "print(\"All OK!\")"
   ]
  }
 ],
 "metadata": {
  "accelerator": "GPU",
  "colab": {
   "collapsed_sections": [],
   "name": "2b_batch_normalization.ipynb",
   "provenance": []
  },
  "kernelspec": {
   "display_name": "Python 3 (ipykernel)",
   "language": "python",
   "name": "python3"
  },
  "language_info": {
   "codemirror_mode": {
    "name": "ipython",
    "version": 3
   },
   "file_extension": ".py",
   "mimetype": "text/x-python",
   "name": "python",
   "nbconvert_exporter": "python",
   "pygments_lexer": "ipython3",
   "version": "3.9.7"
  },
  "widgets": {
   "application/vnd.jupyter.widget-state+json": {
    "0898e807830546b6a72eea221d6f6051": {
     "model_module": "@jupyter-widgets/controls",
     "model_module_version": "1.5.0",
     "model_name": "HTMLModel",
     "state": {
      "_dom_classes": [],
      "_model_module": "@jupyter-widgets/controls",
      "_model_module_version": "1.5.0",
      "_model_name": "HTMLModel",
      "_view_count": null,
      "_view_module": "@jupyter-widgets/controls",
      "_view_module_version": "1.5.0",
      "_view_name": "HTMLView",
      "description": "",
      "description_tooltip": null,
      "layout": "IPY_MODEL_d55bac3534474e6c8bc3e118801c707f",
      "placeholder": "​",
      "style": "IPY_MODEL_442e41260f1b4ad7a95d895ad6c96809",
      "value": ""
     }
    },
    "0c382a8a6a3a49bb8eb351e56cc54d09": {
     "model_module": "@jupyter-widgets/base",
     "model_module_version": "1.2.0",
     "model_name": "LayoutModel",
     "state": {
      "_model_module": "@jupyter-widgets/base",
      "_model_module_version": "1.2.0",
      "_model_name": "LayoutModel",
      "_view_count": null,
      "_view_module": "@jupyter-widgets/base",
      "_view_module_version": "1.2.0",
      "_view_name": "LayoutView",
      "align_content": null,
      "align_items": null,
      "align_self": null,
      "border": null,
      "bottom": null,
      "display": null,
      "flex": null,
      "flex_flow": null,
      "grid_area": null,
      "grid_auto_columns": null,
      "grid_auto_flow": null,
      "grid_auto_rows": null,
      "grid_column": null,
      "grid_gap": null,
      "grid_row": null,
      "grid_template_areas": null,
      "grid_template_columns": null,
      "grid_template_rows": null,
      "height": null,
      "justify_content": null,
      "justify_items": null,
      "left": null,
      "margin": null,
      "max_height": null,
      "max_width": null,
      "min_height": null,
      "min_width": null,
      "object_fit": null,
      "object_position": null,
      "order": null,
      "overflow": null,
      "overflow_x": null,
      "overflow_y": null,
      "padding": null,
      "right": null,
      "top": null,
      "visibility": null,
      "width": null
     }
    },
    "0f9963f7d547458c86b65a60d0b145d0": {
     "model_module": "@jupyter-widgets/controls",
     "model_module_version": "1.5.0",
     "model_name": "HTMLModel",
     "state": {
      "_dom_classes": [],
      "_model_module": "@jupyter-widgets/controls",
      "_model_module_version": "1.5.0",
      "_model_name": "HTMLModel",
      "_view_count": null,
      "_view_module": "@jupyter-widgets/controls",
      "_view_module_version": "1.5.0",
      "_view_name": "HTMLView",
      "description": "",
      "description_tooltip": null,
      "layout": "IPY_MODEL_5c4b9eb9b3de4e489acaf59b5eda0ac8",
      "placeholder": "​",
      "style": "IPY_MODEL_140980d26ded47e596b63c548633ab34",
      "value": ""
     }
    },
    "140980d26ded47e596b63c548633ab34": {
     "model_module": "@jupyter-widgets/controls",
     "model_module_version": "1.5.0",
     "model_name": "DescriptionStyleModel",
     "state": {
      "_model_module": "@jupyter-widgets/controls",
      "_model_module_version": "1.5.0",
      "_model_name": "DescriptionStyleModel",
      "_view_count": null,
      "_view_module": "@jupyter-widgets/base",
      "_view_module_version": "1.2.0",
      "_view_name": "StyleView",
      "description_width": ""
     }
    },
    "1f90029d64a54e70af2a404b79dd426b": {
     "model_module": "@jupyter-widgets/controls",
     "model_module_version": "1.5.0",
     "model_name": "ProgressStyleModel",
     "state": {
      "_model_module": "@jupyter-widgets/controls",
      "_model_module_version": "1.5.0",
      "_model_name": "ProgressStyleModel",
      "_view_count": null,
      "_view_module": "@jupyter-widgets/base",
      "_view_module_version": "1.2.0",
      "_view_name": "StyleView",
      "bar_color": null,
      "description_width": ""
     }
    },
    "20016b17381842b4a8d91caec339ae3d": {
     "model_module": "@jupyter-widgets/controls",
     "model_module_version": "1.5.0",
     "model_name": "ProgressStyleModel",
     "state": {
      "_model_module": "@jupyter-widgets/controls",
      "_model_module_version": "1.5.0",
      "_model_name": "ProgressStyleModel",
      "_view_count": null,
      "_view_module": "@jupyter-widgets/base",
      "_view_module_version": "1.2.0",
      "_view_name": "StyleView",
      "bar_color": null,
      "description_width": ""
     }
    },
    "21eb36ab3e59405fbce18beab6d9f5c3": {
     "model_module": "@jupyter-widgets/controls",
     "model_module_version": "1.5.0",
     "model_name": "DescriptionStyleModel",
     "state": {
      "_model_module": "@jupyter-widgets/controls",
      "_model_module_version": "1.5.0",
      "_model_name": "DescriptionStyleModel",
      "_view_count": null,
      "_view_module": "@jupyter-widgets/base",
      "_view_module_version": "1.2.0",
      "_view_name": "StyleView",
      "description_width": ""
     }
    },
    "225950b0484349a2a21077c1f26661eb": {
     "model_module": "@jupyter-widgets/controls",
     "model_module_version": "1.5.0",
     "model_name": "HTMLModel",
     "state": {
      "_dom_classes": [],
      "_model_module": "@jupyter-widgets/controls",
      "_model_module_version": "1.5.0",
      "_model_name": "HTMLModel",
      "_view_count": null,
      "_view_module": "@jupyter-widgets/controls",
      "_view_module_version": "1.5.0",
      "_view_name": "HTMLView",
      "description": "",
      "description_tooltip": null,
      "layout": "IPY_MODEL_0c382a8a6a3a49bb8eb351e56cc54d09",
      "placeholder": "​",
      "style": "IPY_MODEL_26369e87df64402b924cbd1e447a1195",
      "value": ""
     }
    },
    "26369e87df64402b924cbd1e447a1195": {
     "model_module": "@jupyter-widgets/controls",
     "model_module_version": "1.5.0",
     "model_name": "DescriptionStyleModel",
     "state": {
      "_model_module": "@jupyter-widgets/controls",
      "_model_module_version": "1.5.0",
      "_model_name": "DescriptionStyleModel",
      "_view_count": null,
      "_view_module": "@jupyter-widgets/base",
      "_view_module_version": "1.2.0",
      "_view_name": "StyleView",
      "description_width": ""
     }
    },
    "2803350886314a699362e7ec8e5787b8": {
     "model_module": "@jupyter-widgets/controls",
     "model_module_version": "1.5.0",
     "model_name": "DescriptionStyleModel",
     "state": {
      "_model_module": "@jupyter-widgets/controls",
      "_model_module_version": "1.5.0",
      "_model_name": "DescriptionStyleModel",
      "_view_count": null,
      "_view_module": "@jupyter-widgets/base",
      "_view_module_version": "1.2.0",
      "_view_name": "StyleView",
      "description_width": ""
     }
    },
    "4276349c6e3843baaeb1c824b7b9097b": {
     "model_module": "@jupyter-widgets/base",
     "model_module_version": "1.2.0",
     "model_name": "LayoutModel",
     "state": {
      "_model_module": "@jupyter-widgets/base",
      "_model_module_version": "1.2.0",
      "_model_name": "LayoutModel",
      "_view_count": null,
      "_view_module": "@jupyter-widgets/base",
      "_view_module_version": "1.2.0",
      "_view_name": "LayoutView",
      "align_content": null,
      "align_items": null,
      "align_self": null,
      "border": null,
      "bottom": null,
      "display": null,
      "flex": null,
      "flex_flow": null,
      "grid_area": null,
      "grid_auto_columns": null,
      "grid_auto_flow": null,
      "grid_auto_rows": null,
      "grid_column": null,
      "grid_gap": null,
      "grid_row": null,
      "grid_template_areas": null,
      "grid_template_columns": null,
      "grid_template_rows": null,
      "height": null,
      "justify_content": null,
      "justify_items": null,
      "left": null,
      "margin": null,
      "max_height": null,
      "max_width": null,
      "min_height": null,
      "min_width": null,
      "object_fit": null,
      "object_position": null,
      "order": null,
      "overflow": null,
      "overflow_x": null,
      "overflow_y": null,
      "padding": null,
      "right": null,
      "top": null,
      "visibility": null,
      "width": null
     }
    },
    "442e41260f1b4ad7a95d895ad6c96809": {
     "model_module": "@jupyter-widgets/controls",
     "model_module_version": "1.5.0",
     "model_name": "DescriptionStyleModel",
     "state": {
      "_model_module": "@jupyter-widgets/controls",
      "_model_module_version": "1.5.0",
      "_model_name": "DescriptionStyleModel",
      "_view_count": null,
      "_view_module": "@jupyter-widgets/base",
      "_view_module_version": "1.2.0",
      "_view_name": "StyleView",
      "description_width": ""
     }
    },
    "47941cc3db3943b1abcc2967cabfde09": {
     "model_module": "@jupyter-widgets/base",
     "model_module_version": "1.2.0",
     "model_name": "LayoutModel",
     "state": {
      "_model_module": "@jupyter-widgets/base",
      "_model_module_version": "1.2.0",
      "_model_name": "LayoutModel",
      "_view_count": null,
      "_view_module": "@jupyter-widgets/base",
      "_view_module_version": "1.2.0",
      "_view_name": "LayoutView",
      "align_content": null,
      "align_items": null,
      "align_self": null,
      "border": null,
      "bottom": null,
      "display": null,
      "flex": null,
      "flex_flow": null,
      "grid_area": null,
      "grid_auto_columns": null,
      "grid_auto_flow": null,
      "grid_auto_rows": null,
      "grid_column": null,
      "grid_gap": null,
      "grid_row": null,
      "grid_template_areas": null,
      "grid_template_columns": null,
      "grid_template_rows": null,
      "height": null,
      "justify_content": null,
      "justify_items": null,
      "left": null,
      "margin": null,
      "max_height": null,
      "max_width": null,
      "min_height": null,
      "min_width": null,
      "object_fit": null,
      "object_position": null,
      "order": null,
      "overflow": null,
      "overflow_x": null,
      "overflow_y": null,
      "padding": null,
      "right": null,
      "top": null,
      "visibility": null,
      "width": null
     }
    },
    "4afffdb8cc57428d9faec8c8bfc8f9bc": {
     "model_module": "@jupyter-widgets/controls",
     "model_module_version": "1.5.0",
     "model_name": "DescriptionStyleModel",
     "state": {
      "_model_module": "@jupyter-widgets/controls",
      "_model_module_version": "1.5.0",
      "_model_name": "DescriptionStyleModel",
      "_view_count": null,
      "_view_module": "@jupyter-widgets/base",
      "_view_module_version": "1.2.0",
      "_view_name": "StyleView",
      "description_width": ""
     }
    },
    "4c577accb8a2447ca82631fb63559d28": {
     "model_module": "@jupyter-widgets/controls",
     "model_module_version": "1.5.0",
     "model_name": "HBoxModel",
     "state": {
      "_dom_classes": [],
      "_model_module": "@jupyter-widgets/controls",
      "_model_module_version": "1.5.0",
      "_model_name": "HBoxModel",
      "_view_count": null,
      "_view_module": "@jupyter-widgets/controls",
      "_view_module_version": "1.5.0",
      "_view_name": "HBoxView",
      "box_style": "",
      "children": [
       "IPY_MODEL_0f9963f7d547458c86b65a60d0b145d0",
       "IPY_MODEL_8785e963afe64e70980a4bcb09abd147",
       "IPY_MODEL_4e38004b4b6846ed82b36eb3dcb96ade"
      ],
      "layout": "IPY_MODEL_bc496772f4964a238d052d70213167c7"
     }
    },
    "4e38004b4b6846ed82b36eb3dcb96ade": {
     "model_module": "@jupyter-widgets/controls",
     "model_module_version": "1.5.0",
     "model_name": "HTMLModel",
     "state": {
      "_dom_classes": [],
      "_model_module": "@jupyter-widgets/controls",
      "_model_module_version": "1.5.0",
      "_model_name": "HTMLModel",
      "_view_count": null,
      "_view_module": "@jupyter-widgets/controls",
      "_view_module_version": "1.5.0",
      "_view_name": "HTMLView",
      "description": "",
      "description_tooltip": null,
      "layout": "IPY_MODEL_effc28082f6244fd842914a3fa8a3b0d",
      "placeholder": "​",
      "style": "IPY_MODEL_c826c43531ab452cb7147068bab07e69",
      "value": " 5120/? [00:00&lt;00:00, 166543.90it/s]"
     }
    },
    "525acddcaa4b4c0b92c87663c8f20f6e": {
     "model_module": "@jupyter-widgets/controls",
     "model_module_version": "1.5.0",
     "model_name": "HBoxModel",
     "state": {
      "_dom_classes": [],
      "_model_module": "@jupyter-widgets/controls",
      "_model_module_version": "1.5.0",
      "_model_name": "HBoxModel",
      "_view_count": null,
      "_view_module": "@jupyter-widgets/controls",
      "_view_module_version": "1.5.0",
      "_view_name": "HBoxView",
      "box_style": "",
      "children": [
       "IPY_MODEL_225950b0484349a2a21077c1f26661eb",
       "IPY_MODEL_7ee8e89b45494cc2a63ffc9c4b661ba8",
       "IPY_MODEL_9ce579289a1145c4a1b83b57d96147a0"
      ],
      "layout": "IPY_MODEL_f2be11f3f58b42c4a4bf6928dcf2f943"
     }
    },
    "56fd7b4d45ce4e5a895beacf5a2efb9d": {
     "model_module": "@jupyter-widgets/base",
     "model_module_version": "1.2.0",
     "model_name": "LayoutModel",
     "state": {
      "_model_module": "@jupyter-widgets/base",
      "_model_module_version": "1.2.0",
      "_model_name": "LayoutModel",
      "_view_count": null,
      "_view_module": "@jupyter-widgets/base",
      "_view_module_version": "1.2.0",
      "_view_name": "LayoutView",
      "align_content": null,
      "align_items": null,
      "align_self": null,
      "border": null,
      "bottom": null,
      "display": null,
      "flex": null,
      "flex_flow": null,
      "grid_area": null,
      "grid_auto_columns": null,
      "grid_auto_flow": null,
      "grid_auto_rows": null,
      "grid_column": null,
      "grid_gap": null,
      "grid_row": null,
      "grid_template_areas": null,
      "grid_template_columns": null,
      "grid_template_rows": null,
      "height": null,
      "justify_content": null,
      "justify_items": null,
      "left": null,
      "margin": null,
      "max_height": null,
      "max_width": null,
      "min_height": null,
      "min_width": null,
      "object_fit": null,
      "object_position": null,
      "order": null,
      "overflow": null,
      "overflow_x": null,
      "overflow_y": null,
      "padding": null,
      "right": null,
      "top": null,
      "visibility": null,
      "width": null
     }
    },
    "5c4b9eb9b3de4e489acaf59b5eda0ac8": {
     "model_module": "@jupyter-widgets/base",
     "model_module_version": "1.2.0",
     "model_name": "LayoutModel",
     "state": {
      "_model_module": "@jupyter-widgets/base",
      "_model_module_version": "1.2.0",
      "_model_name": "LayoutModel",
      "_view_count": null,
      "_view_module": "@jupyter-widgets/base",
      "_view_module_version": "1.2.0",
      "_view_name": "LayoutView",
      "align_content": null,
      "align_items": null,
      "align_self": null,
      "border": null,
      "bottom": null,
      "display": null,
      "flex": null,
      "flex_flow": null,
      "grid_area": null,
      "grid_auto_columns": null,
      "grid_auto_flow": null,
      "grid_auto_rows": null,
      "grid_column": null,
      "grid_gap": null,
      "grid_row": null,
      "grid_template_areas": null,
      "grid_template_columns": null,
      "grid_template_rows": null,
      "height": null,
      "justify_content": null,
      "justify_items": null,
      "left": null,
      "margin": null,
      "max_height": null,
      "max_width": null,
      "min_height": null,
      "min_width": null,
      "object_fit": null,
      "object_position": null,
      "order": null,
      "overflow": null,
      "overflow_x": null,
      "overflow_y": null,
      "padding": null,
      "right": null,
      "top": null,
      "visibility": null,
      "width": null
     }
    },
    "5d6de97a7daf4a219e900623d443722d": {
     "model_module": "@jupyter-widgets/controls",
     "model_module_version": "1.5.0",
     "model_name": "FloatProgressModel",
     "state": {
      "_dom_classes": [],
      "_model_module": "@jupyter-widgets/controls",
      "_model_module_version": "1.5.0",
      "_model_name": "FloatProgressModel",
      "_view_count": null,
      "_view_module": "@jupyter-widgets/controls",
      "_view_module_version": "1.5.0",
      "_view_name": "ProgressView",
      "bar_style": "success",
      "description": "",
      "description_tooltip": null,
      "layout": "IPY_MODEL_f0f81271750140669b88863cc7405001",
      "max": 9912422,
      "min": 0,
      "orientation": "horizontal",
      "style": "IPY_MODEL_1f90029d64a54e70af2a404b79dd426b",
      "value": 9912422
     }
    },
    "62622b7f42ad4667af51d7f153e512f4": {
     "model_module": "@jupyter-widgets/controls",
     "model_module_version": "1.5.0",
     "model_name": "ProgressStyleModel",
     "state": {
      "_model_module": "@jupyter-widgets/controls",
      "_model_module_version": "1.5.0",
      "_model_name": "ProgressStyleModel",
      "_view_count": null,
      "_view_module": "@jupyter-widgets/base",
      "_view_module_version": "1.2.0",
      "_view_name": "StyleView",
      "bar_color": null,
      "description_width": ""
     }
    },
    "670cb662927242758457e13da000dd9f": {
     "model_module": "@jupyter-widgets/controls",
     "model_module_version": "1.5.0",
     "model_name": "HTMLModel",
     "state": {
      "_dom_classes": [],
      "_model_module": "@jupyter-widgets/controls",
      "_model_module_version": "1.5.0",
      "_model_name": "HTMLModel",
      "_view_count": null,
      "_view_module": "@jupyter-widgets/controls",
      "_view_module_version": "1.5.0",
      "_view_name": "HTMLView",
      "description": "",
      "description_tooltip": null,
      "layout": "IPY_MODEL_47941cc3db3943b1abcc2967cabfde09",
      "placeholder": "​",
      "style": "IPY_MODEL_90fda2a3f4354f5088dfcee0a056c72f",
      "value": " 1649664/? [00:00&lt;00:00, 17445526.32it/s]"
     }
    },
    "696051d9b11845eab049a7495aa6ecab": {
     "model_module": "@jupyter-widgets/base",
     "model_module_version": "1.2.0",
     "model_name": "LayoutModel",
     "state": {
      "_model_module": "@jupyter-widgets/base",
      "_model_module_version": "1.2.0",
      "_model_name": "LayoutModel",
      "_view_count": null,
      "_view_module": "@jupyter-widgets/base",
      "_view_module_version": "1.2.0",
      "_view_name": "LayoutView",
      "align_content": null,
      "align_items": null,
      "align_self": null,
      "border": null,
      "bottom": null,
      "display": null,
      "flex": null,
      "flex_flow": null,
      "grid_area": null,
      "grid_auto_columns": null,
      "grid_auto_flow": null,
      "grid_auto_rows": null,
      "grid_column": null,
      "grid_gap": null,
      "grid_row": null,
      "grid_template_areas": null,
      "grid_template_columns": null,
      "grid_template_rows": null,
      "height": null,
      "justify_content": null,
      "justify_items": null,
      "left": null,
      "margin": null,
      "max_height": null,
      "max_width": null,
      "min_height": null,
      "min_width": null,
      "object_fit": null,
      "object_position": null,
      "order": null,
      "overflow": null,
      "overflow_x": null,
      "overflow_y": null,
      "padding": null,
      "right": null,
      "top": null,
      "visibility": null,
      "width": null
     }
    },
    "7ee8e89b45494cc2a63ffc9c4b661ba8": {
     "model_module": "@jupyter-widgets/controls",
     "model_module_version": "1.5.0",
     "model_name": "FloatProgressModel",
     "state": {
      "_dom_classes": [],
      "_model_module": "@jupyter-widgets/controls",
      "_model_module_version": "1.5.0",
      "_model_name": "FloatProgressModel",
      "_view_count": null,
      "_view_module": "@jupyter-widgets/controls",
      "_view_module_version": "1.5.0",
      "_view_name": "ProgressView",
      "bar_style": "success",
      "description": "",
      "description_tooltip": null,
      "layout": "IPY_MODEL_c4a3c635b18a47e38e331e70afb65f16",
      "max": 28881,
      "min": 0,
      "orientation": "horizontal",
      "style": "IPY_MODEL_20016b17381842b4a8d91caec339ae3d",
      "value": 28881
     }
    },
    "8785e963afe64e70980a4bcb09abd147": {
     "model_module": "@jupyter-widgets/controls",
     "model_module_version": "1.5.0",
     "model_name": "FloatProgressModel",
     "state": {
      "_dom_classes": [],
      "_model_module": "@jupyter-widgets/controls",
      "_model_module_version": "1.5.0",
      "_model_name": "FloatProgressModel",
      "_view_count": null,
      "_view_module": "@jupyter-widgets/controls",
      "_view_module_version": "1.5.0",
      "_view_name": "ProgressView",
      "bar_style": "success",
      "description": "",
      "description_tooltip": null,
      "layout": "IPY_MODEL_56fd7b4d45ce4e5a895beacf5a2efb9d",
      "max": 4542,
      "min": 0,
      "orientation": "horizontal",
      "style": "IPY_MODEL_9ee8e7842f9446749d50747f1a7efec5",
      "value": 4542
     }
    },
    "90fda2a3f4354f5088dfcee0a056c72f": {
     "model_module": "@jupyter-widgets/controls",
     "model_module_version": "1.5.0",
     "model_name": "DescriptionStyleModel",
     "state": {
      "_model_module": "@jupyter-widgets/controls",
      "_model_module_version": "1.5.0",
      "_model_name": "DescriptionStyleModel",
      "_view_count": null,
      "_view_module": "@jupyter-widgets/base",
      "_view_module_version": "1.2.0",
      "_view_name": "StyleView",
      "description_width": ""
     }
    },
    "9ce579289a1145c4a1b83b57d96147a0": {
     "model_module": "@jupyter-widgets/controls",
     "model_module_version": "1.5.0",
     "model_name": "HTMLModel",
     "state": {
      "_dom_classes": [],
      "_model_module": "@jupyter-widgets/controls",
      "_model_module_version": "1.5.0",
      "_model_name": "HTMLModel",
      "_view_count": null,
      "_view_module": "@jupyter-widgets/controls",
      "_view_module_version": "1.5.0",
      "_view_name": "HTMLView",
      "description": "",
      "description_tooltip": null,
      "layout": "IPY_MODEL_696051d9b11845eab049a7495aa6ecab",
      "placeholder": "​",
      "style": "IPY_MODEL_4afffdb8cc57428d9faec8c8bfc8f9bc",
      "value": " 29696/? [00:00&lt;00:00, 725644.94it/s]"
     }
    },
    "9ee8e7842f9446749d50747f1a7efec5": {
     "model_module": "@jupyter-widgets/controls",
     "model_module_version": "1.5.0",
     "model_name": "ProgressStyleModel",
     "state": {
      "_model_module": "@jupyter-widgets/controls",
      "_model_module_version": "1.5.0",
      "_model_name": "ProgressStyleModel",
      "_view_count": null,
      "_view_module": "@jupyter-widgets/base",
      "_view_module_version": "1.2.0",
      "_view_name": "StyleView",
      "bar_color": null,
      "description_width": ""
     }
    },
    "a8e8b6aeb78e4c04b5dbb7546cdeb33a": {
     "model_module": "@jupyter-widgets/controls",
     "model_module_version": "1.5.0",
     "model_name": "HTMLModel",
     "state": {
      "_dom_classes": [],
      "_model_module": "@jupyter-widgets/controls",
      "_model_module_version": "1.5.0",
      "_model_name": "HTMLModel",
      "_view_count": null,
      "_view_module": "@jupyter-widgets/controls",
      "_view_module_version": "1.5.0",
      "_view_name": "HTMLView",
      "description": "",
      "description_tooltip": null,
      "layout": "IPY_MODEL_ceea140a668f4ae28a0a26a76a0542d8",
      "placeholder": "​",
      "style": "IPY_MODEL_21eb36ab3e59405fbce18beab6d9f5c3",
      "value": ""
     }
    },
    "b1b24fedd3ce4e67acef3dae50ff34e0": {
     "model_module": "@jupyter-widgets/controls",
     "model_module_version": "1.5.0",
     "model_name": "HTMLModel",
     "state": {
      "_dom_classes": [],
      "_model_module": "@jupyter-widgets/controls",
      "_model_module_version": "1.5.0",
      "_model_name": "HTMLModel",
      "_view_count": null,
      "_view_module": "@jupyter-widgets/controls",
      "_view_module_version": "1.5.0",
      "_view_name": "HTMLView",
      "description": "",
      "description_tooltip": null,
      "layout": "IPY_MODEL_c7dddc87b88b4f57a8a61cb6f5bbbb01",
      "placeholder": "​",
      "style": "IPY_MODEL_2803350886314a699362e7ec8e5787b8",
      "value": " 9913344/? [00:00&lt;00:00, 22087385.10it/s]"
     }
    },
    "bc496772f4964a238d052d70213167c7": {
     "model_module": "@jupyter-widgets/base",
     "model_module_version": "1.2.0",
     "model_name": "LayoutModel",
     "state": {
      "_model_module": "@jupyter-widgets/base",
      "_model_module_version": "1.2.0",
      "_model_name": "LayoutModel",
      "_view_count": null,
      "_view_module": "@jupyter-widgets/base",
      "_view_module_version": "1.2.0",
      "_view_name": "LayoutView",
      "align_content": null,
      "align_items": null,
      "align_self": null,
      "border": null,
      "bottom": null,
      "display": null,
      "flex": null,
      "flex_flow": null,
      "grid_area": null,
      "grid_auto_columns": null,
      "grid_auto_flow": null,
      "grid_auto_rows": null,
      "grid_column": null,
      "grid_gap": null,
      "grid_row": null,
      "grid_template_areas": null,
      "grid_template_columns": null,
      "grid_template_rows": null,
      "height": null,
      "justify_content": null,
      "justify_items": null,
      "left": null,
      "margin": null,
      "max_height": null,
      "max_width": null,
      "min_height": null,
      "min_width": null,
      "object_fit": null,
      "object_position": null,
      "order": null,
      "overflow": null,
      "overflow_x": null,
      "overflow_y": null,
      "padding": null,
      "right": null,
      "top": null,
      "visibility": null,
      "width": null
     }
    },
    "c4a3c635b18a47e38e331e70afb65f16": {
     "model_module": "@jupyter-widgets/base",
     "model_module_version": "1.2.0",
     "model_name": "LayoutModel",
     "state": {
      "_model_module": "@jupyter-widgets/base",
      "_model_module_version": "1.2.0",
      "_model_name": "LayoutModel",
      "_view_count": null,
      "_view_module": "@jupyter-widgets/base",
      "_view_module_version": "1.2.0",
      "_view_name": "LayoutView",
      "align_content": null,
      "align_items": null,
      "align_self": null,
      "border": null,
      "bottom": null,
      "display": null,
      "flex": null,
      "flex_flow": null,
      "grid_area": null,
      "grid_auto_columns": null,
      "grid_auto_flow": null,
      "grid_auto_rows": null,
      "grid_column": null,
      "grid_gap": null,
      "grid_row": null,
      "grid_template_areas": null,
      "grid_template_columns": null,
      "grid_template_rows": null,
      "height": null,
      "justify_content": null,
      "justify_items": null,
      "left": null,
      "margin": null,
      "max_height": null,
      "max_width": null,
      "min_height": null,
      "min_width": null,
      "object_fit": null,
      "object_position": null,
      "order": null,
      "overflow": null,
      "overflow_x": null,
      "overflow_y": null,
      "padding": null,
      "right": null,
      "top": null,
      "visibility": null,
      "width": null
     }
    },
    "c7dddc87b88b4f57a8a61cb6f5bbbb01": {
     "model_module": "@jupyter-widgets/base",
     "model_module_version": "1.2.0",
     "model_name": "LayoutModel",
     "state": {
      "_model_module": "@jupyter-widgets/base",
      "_model_module_version": "1.2.0",
      "_model_name": "LayoutModel",
      "_view_count": null,
      "_view_module": "@jupyter-widgets/base",
      "_view_module_version": "1.2.0",
      "_view_name": "LayoutView",
      "align_content": null,
      "align_items": null,
      "align_self": null,
      "border": null,
      "bottom": null,
      "display": null,
      "flex": null,
      "flex_flow": null,
      "grid_area": null,
      "grid_auto_columns": null,
      "grid_auto_flow": null,
      "grid_auto_rows": null,
      "grid_column": null,
      "grid_gap": null,
      "grid_row": null,
      "grid_template_areas": null,
      "grid_template_columns": null,
      "grid_template_rows": null,
      "height": null,
      "justify_content": null,
      "justify_items": null,
      "left": null,
      "margin": null,
      "max_height": null,
      "max_width": null,
      "min_height": null,
      "min_width": null,
      "object_fit": null,
      "object_position": null,
      "order": null,
      "overflow": null,
      "overflow_x": null,
      "overflow_y": null,
      "padding": null,
      "right": null,
      "top": null,
      "visibility": null,
      "width": null
     }
    },
    "c805458dd86b4bd0bce9f83e4eca7fff": {
     "model_module": "@jupyter-widgets/controls",
     "model_module_version": "1.5.0",
     "model_name": "HBoxModel",
     "state": {
      "_dom_classes": [],
      "_model_module": "@jupyter-widgets/controls",
      "_model_module_version": "1.5.0",
      "_model_name": "HBoxModel",
      "_view_count": null,
      "_view_module": "@jupyter-widgets/controls",
      "_view_module_version": "1.5.0",
      "_view_name": "HBoxView",
      "box_style": "",
      "children": [
       "IPY_MODEL_a8e8b6aeb78e4c04b5dbb7546cdeb33a",
       "IPY_MODEL_dd8822cd84fd4411a236ad76388c8524",
       "IPY_MODEL_670cb662927242758457e13da000dd9f"
      ],
      "layout": "IPY_MODEL_f0802a0dda84432ca987c5e986301704"
     }
    },
    "c826c43531ab452cb7147068bab07e69": {
     "model_module": "@jupyter-widgets/controls",
     "model_module_version": "1.5.0",
     "model_name": "DescriptionStyleModel",
     "state": {
      "_model_module": "@jupyter-widgets/controls",
      "_model_module_version": "1.5.0",
      "_model_name": "DescriptionStyleModel",
      "_view_count": null,
      "_view_module": "@jupyter-widgets/base",
      "_view_module_version": "1.2.0",
      "_view_name": "StyleView",
      "description_width": ""
     }
    },
    "ceea140a668f4ae28a0a26a76a0542d8": {
     "model_module": "@jupyter-widgets/base",
     "model_module_version": "1.2.0",
     "model_name": "LayoutModel",
     "state": {
      "_model_module": "@jupyter-widgets/base",
      "_model_module_version": "1.2.0",
      "_model_name": "LayoutModel",
      "_view_count": null,
      "_view_module": "@jupyter-widgets/base",
      "_view_module_version": "1.2.0",
      "_view_name": "LayoutView",
      "align_content": null,
      "align_items": null,
      "align_self": null,
      "border": null,
      "bottom": null,
      "display": null,
      "flex": null,
      "flex_flow": null,
      "grid_area": null,
      "grid_auto_columns": null,
      "grid_auto_flow": null,
      "grid_auto_rows": null,
      "grid_column": null,
      "grid_gap": null,
      "grid_row": null,
      "grid_template_areas": null,
      "grid_template_columns": null,
      "grid_template_rows": null,
      "height": null,
      "justify_content": null,
      "justify_items": null,
      "left": null,
      "margin": null,
      "max_height": null,
      "max_width": null,
      "min_height": null,
      "min_width": null,
      "object_fit": null,
      "object_position": null,
      "order": null,
      "overflow": null,
      "overflow_x": null,
      "overflow_y": null,
      "padding": null,
      "right": null,
      "top": null,
      "visibility": null,
      "width": null
     }
    },
    "d55bac3534474e6c8bc3e118801c707f": {
     "model_module": "@jupyter-widgets/base",
     "model_module_version": "1.2.0",
     "model_name": "LayoutModel",
     "state": {
      "_model_module": "@jupyter-widgets/base",
      "_model_module_version": "1.2.0",
      "_model_name": "LayoutModel",
      "_view_count": null,
      "_view_module": "@jupyter-widgets/base",
      "_view_module_version": "1.2.0",
      "_view_name": "LayoutView",
      "align_content": null,
      "align_items": null,
      "align_self": null,
      "border": null,
      "bottom": null,
      "display": null,
      "flex": null,
      "flex_flow": null,
      "grid_area": null,
      "grid_auto_columns": null,
      "grid_auto_flow": null,
      "grid_auto_rows": null,
      "grid_column": null,
      "grid_gap": null,
      "grid_row": null,
      "grid_template_areas": null,
      "grid_template_columns": null,
      "grid_template_rows": null,
      "height": null,
      "justify_content": null,
      "justify_items": null,
      "left": null,
      "margin": null,
      "max_height": null,
      "max_width": null,
      "min_height": null,
      "min_width": null,
      "object_fit": null,
      "object_position": null,
      "order": null,
      "overflow": null,
      "overflow_x": null,
      "overflow_y": null,
      "padding": null,
      "right": null,
      "top": null,
      "visibility": null,
      "width": null
     }
    },
    "d5abf198cf2a487782901352d69b43ec": {
     "model_module": "@jupyter-widgets/base",
     "model_module_version": "1.2.0",
     "model_name": "LayoutModel",
     "state": {
      "_model_module": "@jupyter-widgets/base",
      "_model_module_version": "1.2.0",
      "_model_name": "LayoutModel",
      "_view_count": null,
      "_view_module": "@jupyter-widgets/base",
      "_view_module_version": "1.2.0",
      "_view_name": "LayoutView",
      "align_content": null,
      "align_items": null,
      "align_self": null,
      "border": null,
      "bottom": null,
      "display": null,
      "flex": null,
      "flex_flow": null,
      "grid_area": null,
      "grid_auto_columns": null,
      "grid_auto_flow": null,
      "grid_auto_rows": null,
      "grid_column": null,
      "grid_gap": null,
      "grid_row": null,
      "grid_template_areas": null,
      "grid_template_columns": null,
      "grid_template_rows": null,
      "height": null,
      "justify_content": null,
      "justify_items": null,
      "left": null,
      "margin": null,
      "max_height": null,
      "max_width": null,
      "min_height": null,
      "min_width": null,
      "object_fit": null,
      "object_position": null,
      "order": null,
      "overflow": null,
      "overflow_x": null,
      "overflow_y": null,
      "padding": null,
      "right": null,
      "top": null,
      "visibility": null,
      "width": null
     }
    },
    "dd8822cd84fd4411a236ad76388c8524": {
     "model_module": "@jupyter-widgets/controls",
     "model_module_version": "1.5.0",
     "model_name": "FloatProgressModel",
     "state": {
      "_dom_classes": [],
      "_model_module": "@jupyter-widgets/controls",
      "_model_module_version": "1.5.0",
      "_model_name": "FloatProgressModel",
      "_view_count": null,
      "_view_module": "@jupyter-widgets/controls",
      "_view_module_version": "1.5.0",
      "_view_name": "ProgressView",
      "bar_style": "success",
      "description": "",
      "description_tooltip": null,
      "layout": "IPY_MODEL_d5abf198cf2a487782901352d69b43ec",
      "max": 1648877,
      "min": 0,
      "orientation": "horizontal",
      "style": "IPY_MODEL_62622b7f42ad4667af51d7f153e512f4",
      "value": 1648877
     }
    },
    "effc28082f6244fd842914a3fa8a3b0d": {
     "model_module": "@jupyter-widgets/base",
     "model_module_version": "1.2.0",
     "model_name": "LayoutModel",
     "state": {
      "_model_module": "@jupyter-widgets/base",
      "_model_module_version": "1.2.0",
      "_model_name": "LayoutModel",
      "_view_count": null,
      "_view_module": "@jupyter-widgets/base",
      "_view_module_version": "1.2.0",
      "_view_name": "LayoutView",
      "align_content": null,
      "align_items": null,
      "align_self": null,
      "border": null,
      "bottom": null,
      "display": null,
      "flex": null,
      "flex_flow": null,
      "grid_area": null,
      "grid_auto_columns": null,
      "grid_auto_flow": null,
      "grid_auto_rows": null,
      "grid_column": null,
      "grid_gap": null,
      "grid_row": null,
      "grid_template_areas": null,
      "grid_template_columns": null,
      "grid_template_rows": null,
      "height": null,
      "justify_content": null,
      "justify_items": null,
      "left": null,
      "margin": null,
      "max_height": null,
      "max_width": null,
      "min_height": null,
      "min_width": null,
      "object_fit": null,
      "object_position": null,
      "order": null,
      "overflow": null,
      "overflow_x": null,
      "overflow_y": null,
      "padding": null,
      "right": null,
      "top": null,
      "visibility": null,
      "width": null
     }
    },
    "f0802a0dda84432ca987c5e986301704": {
     "model_module": "@jupyter-widgets/base",
     "model_module_version": "1.2.0",
     "model_name": "LayoutModel",
     "state": {
      "_model_module": "@jupyter-widgets/base",
      "_model_module_version": "1.2.0",
      "_model_name": "LayoutModel",
      "_view_count": null,
      "_view_module": "@jupyter-widgets/base",
      "_view_module_version": "1.2.0",
      "_view_name": "LayoutView",
      "align_content": null,
      "align_items": null,
      "align_self": null,
      "border": null,
      "bottom": null,
      "display": null,
      "flex": null,
      "flex_flow": null,
      "grid_area": null,
      "grid_auto_columns": null,
      "grid_auto_flow": null,
      "grid_auto_rows": null,
      "grid_column": null,
      "grid_gap": null,
      "grid_row": null,
      "grid_template_areas": null,
      "grid_template_columns": null,
      "grid_template_rows": null,
      "height": null,
      "justify_content": null,
      "justify_items": null,
      "left": null,
      "margin": null,
      "max_height": null,
      "max_width": null,
      "min_height": null,
      "min_width": null,
      "object_fit": null,
      "object_position": null,
      "order": null,
      "overflow": null,
      "overflow_x": null,
      "overflow_y": null,
      "padding": null,
      "right": null,
      "top": null,
      "visibility": null,
      "width": null
     }
    },
    "f0f81271750140669b88863cc7405001": {
     "model_module": "@jupyter-widgets/base",
     "model_module_version": "1.2.0",
     "model_name": "LayoutModel",
     "state": {
      "_model_module": "@jupyter-widgets/base",
      "_model_module_version": "1.2.0",
      "_model_name": "LayoutModel",
      "_view_count": null,
      "_view_module": "@jupyter-widgets/base",
      "_view_module_version": "1.2.0",
      "_view_name": "LayoutView",
      "align_content": null,
      "align_items": null,
      "align_self": null,
      "border": null,
      "bottom": null,
      "display": null,
      "flex": null,
      "flex_flow": null,
      "grid_area": null,
      "grid_auto_columns": null,
      "grid_auto_flow": null,
      "grid_auto_rows": null,
      "grid_column": null,
      "grid_gap": null,
      "grid_row": null,
      "grid_template_areas": null,
      "grid_template_columns": null,
      "grid_template_rows": null,
      "height": null,
      "justify_content": null,
      "justify_items": null,
      "left": null,
      "margin": null,
      "max_height": null,
      "max_width": null,
      "min_height": null,
      "min_width": null,
      "object_fit": null,
      "object_position": null,
      "order": null,
      "overflow": null,
      "overflow_x": null,
      "overflow_y": null,
      "padding": null,
      "right": null,
      "top": null,
      "visibility": null,
      "width": null
     }
    },
    "f2be11f3f58b42c4a4bf6928dcf2f943": {
     "model_module": "@jupyter-widgets/base",
     "model_module_version": "1.2.0",
     "model_name": "LayoutModel",
     "state": {
      "_model_module": "@jupyter-widgets/base",
      "_model_module_version": "1.2.0",
      "_model_name": "LayoutModel",
      "_view_count": null,
      "_view_module": "@jupyter-widgets/base",
      "_view_module_version": "1.2.0",
      "_view_name": "LayoutView",
      "align_content": null,
      "align_items": null,
      "align_self": null,
      "border": null,
      "bottom": null,
      "display": null,
      "flex": null,
      "flex_flow": null,
      "grid_area": null,
      "grid_auto_columns": null,
      "grid_auto_flow": null,
      "grid_auto_rows": null,
      "grid_column": null,
      "grid_gap": null,
      "grid_row": null,
      "grid_template_areas": null,
      "grid_template_columns": null,
      "grid_template_rows": null,
      "height": null,
      "justify_content": null,
      "justify_items": null,
      "left": null,
      "margin": null,
      "max_height": null,
      "max_width": null,
      "min_height": null,
      "min_width": null,
      "object_fit": null,
      "object_position": null,
      "order": null,
      "overflow": null,
      "overflow_x": null,
      "overflow_y": null,
      "padding": null,
      "right": null,
      "top": null,
      "visibility": null,
      "width": null
     }
    },
    "faf08b4a0c45416ab8e08be4a8d71913": {
     "model_module": "@jupyter-widgets/controls",
     "model_module_version": "1.5.0",
     "model_name": "HBoxModel",
     "state": {
      "_dom_classes": [],
      "_model_module": "@jupyter-widgets/controls",
      "_model_module_version": "1.5.0",
      "_model_name": "HBoxModel",
      "_view_count": null,
      "_view_module": "@jupyter-widgets/controls",
      "_view_module_version": "1.5.0",
      "_view_name": "HBoxView",
      "box_style": "",
      "children": [
       "IPY_MODEL_0898e807830546b6a72eea221d6f6051",
       "IPY_MODEL_5d6de97a7daf4a219e900623d443722d",
       "IPY_MODEL_b1b24fedd3ce4e67acef3dae50ff34e0"
      ],
      "layout": "IPY_MODEL_4276349c6e3843baaeb1c824b7b9097b"
     }
    }
   }
  }
 },
 "nbformat": 4,
 "nbformat_minor": 1
}
